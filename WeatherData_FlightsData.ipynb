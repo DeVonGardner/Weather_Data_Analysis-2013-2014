{
 "cells": [
  {
   "cell_type": "markdown",
   "metadata": {},
   "source": [
    "Before you turn this problem in, make sure everything runs as expected. First, **restart the kernel** (in the menubar, select Kernel$\\rightarrow$Restart) and then **run all cells** (in the menubar, select Cell$\\rightarrow$Run All).\n",
    "\n",
    "Make sure you fill in any place that says `YOUR CODE HERE` or \"YOUR ANSWER HERE\", as well as your name and collaborators below:"
   ]
  },
  {
   "cell_type": "code",
   "execution_count": 1,
   "metadata": {},
   "outputs": [
    {
     "data": {
      "text/plain": [
       "'\\nPurpose: This program reads two text files, one containing weather data and one containing flights data, and converts the \\nthe information into tidy dataframes suitable for analysis. It utilizes multiple functions which serve the following \\npurposes: extract year, month, and day information from a combined column; rearrange the columns of a data frame; convert \\ntimes into military time stamps; and one for each text file, designed to make necessary updates. \\n\\nThis program also merges the two dataframes using a many-to-one relationship, and outputs all dataframes to saved csv files. \\n\\nFinally, the program uses the dataframes to create a series of graphs intended to answer research questions.\\n'"
      ]
     },
     "execution_count": 1,
     "metadata": {},
     "output_type": "execute_result"
    }
   ],
   "source": [
    "NAMES = \"Oliver Gladfelter, DeVon Gardner\"\n",
    "\n",
    "\"\"\"\n",
    "Purpose: This program reads two text files, one containing weather data and one containing flights data, and converts the \n",
    "the information into tidy dataframes suitable for analysis. It utilizes multiple functions which serve the following \n",
    "purposes: extract year, month, and day information from a combined column; rearrange the columns of a data frame; convert \n",
    "times into military time stamps; and one for each text file, designed to make necessary updates. \n",
    "\n",
    "This program also merges the two dataframes using a many-to-one relationship, and outputs all dataframes to saved csv files. \n",
    "\n",
    "Finally, the program uses the dataframes to create a series of graphs intended to answer research questions.\n",
    "\"\"\""
   ]
  },
  {
   "cell_type": "markdown",
   "metadata": {},
   "source": [
    "---"
   ]
  },
  {
   "cell_type": "code",
   "execution_count": 2,
   "metadata": {
    "collapsed": true
   },
   "outputs": [],
   "source": [
    "import pandas as pd"
   ]
  },
  {
   "cell_type": "markdown",
   "metadata": {},
   "source": [
    "The weather csv file contains three distinct time variables: year, month, and day. These data are a vital part of the data and columns we intend to see in the final, tidy data set. However, munging the data set into a tidy form requires pivoting the set on a time column. To facilitate pivoting, we plan on combining the year, month, and day columns into one singular date column, on which we will pivot later on. Because we will lose the original columns in the process and be left with one column containing three different pieces of information, it is necessary to create a series of functions which can split the date column back to three columns: year, month, day. In order to accomplish this, we have created three functions, each specifically designed to extract a part of the date column. This is done simply by splitting the content within the column - a singular string in which information is seperated by hyphens - into a list, then returning one element of the resulting list. "
   ]
  },
  {
   "cell_type": "code",
   "execution_count": 3,
   "metadata": {
    "collapsed": true
   },
   "outputs": [],
   "source": [
    "def yearExtractor(yearMonth):\n",
    "    \"\"\"\n",
    "    Seperates a string by its hyphen, then returns the first item in the resulting list\n",
    "    Parameters: string of three data points seperated by a hyphen\n",
    "    Returns: First element of the string, in int form\n",
    "    \"\"\"\n",
    "    timeList = yearMonth.split('-')\n",
    "    return int(timeList[0])\n",
    "    \n",
    "def monthExtractor(yearMonth):\n",
    "    \"\"\"\n",
    "    Seperates a string by its hyphen, then returns integer conversion of the second item in the resulting list\n",
    "    Parameters: string of three data points seperated by a hyphen\n",
    "    Returns: Second element of the string, in int form\n",
    "    \"\"\"\n",
    "    timeList = yearMonth.split('-')\n",
    "    return int(timeList[1])\n",
    "    \n",
    "def dayExtractor(yearMonth):\n",
    "    \"\"\"\n",
    "    Seperates a string by its hyphen, then returns integer conversion of the third item in the resulting list\n",
    "    Parameters: string of three data points seperated by a hyphen\n",
    "    Returns: Third element of the string, with the 'X' removed, and in int form\n",
    "    \"\"\"\n",
    "    timeList = yearMonth.split('-')\n",
    "    day = timeList[2].strip('X')\n",
    "    return int(day)"
   ]
  },
  {
   "cell_type": "markdown",
   "metadata": {},
   "source": [
    "When this process of extracting the year, month, and day data from the 'year-month-day' column used to pivot the dataframe is complete, the data will be added to the dataframe in three unique columns. These columns, however, will be located on the far right of the dataframe - at the end. While this was not entirely necessary, we preferred to arrange the dataframe so the year, month, and day columns are the first three columns. The following function accepts a dataframe and number of columns as parameters, and rearranges the columns of the dataframe so that the last few, depending on the parameter inputs, are moved to become the first few columns. For our purposes, we use this to move the last three columns - year, month, day - of the weather dataframe.  "
   ]
  },
  {
   "cell_type": "code",
   "execution_count": 4,
   "metadata": {
    "collapsed": true
   },
   "outputs": [],
   "source": [
    "def rearrangeColumns(dataframe, num):\n",
    "    \"\"\"\n",
    "    Rearrange the columns so that the last 'num' columns are shifted to become the first columns\n",
    "    Parameters: the dataframe to be arranged, the amount of columns at the end to be shifted to the front\n",
    "    Return: the updated dataframe\n",
    "    \"\"\"\n",
    "    #obtains a list of the columns\n",
    "    cols = dataframe.columns.tolist()\n",
    "    \n",
    "    #splits the list and attaches the beginning part to the end part, rearranging the columns list \n",
    "    cols = cols[-num:] + cols[:-num]\n",
    "    dataframe = dataframe[cols]\n",
    "    \n",
    "    return dataframe"
   ]
  },
  {
   "cell_type": "markdown",
   "metadata": {},
   "source": [
    "To begin the process of munging the weather file into a tidy dataframe, we first utilize pandas to read the csv file and convert the result into a dtaframe. Immediately it is apparant that the 'X' column contains extraneous infrormation. This is simply resolved by deleting the column.\n",
    "\n",
    "\n",
    "Next, the dataframe has two major problems which need addressing: first, the 'measure' column contains fields that are values; second, the 'X1' through 'X31' columns each represent a day, meaning there are time values running in two different directions. We resolve this by merging the year and month columns into one, accomplished by first converting the values into strings and then concating them using a hyphen to seperate the information within the string. We then melt the 31 'X1' through 'X31' columns into one column, appropriately collecting any data points that represent a day into one column, which we then name 'day.' Through this action, we have now ensured all time variables are running in the same direction. We then update the time column to include the days, so that this complete date column, titled 'year-month-day', may be used as a pivot column. Pivoting the dataframe is necessary as the 'measure' column contains several variables. We thus resolve this by pivoting the variable names within the 'measure' column into their own column headers.\n",
    "\n",
    "We are now left with a dataframe containing several variables describing weather information such as wind speechs and temperatures, and a date column. Because we do not want multiple pieces of information stored in one column, it is necessary to envoke our yearExtractor, monthExtractor, and dayExtractor functions in order to recreate new columns in which each contains the information of only part of the date. Through this process we are able to divide the single date column into three columns: year, month, day. The column from which we extract from can then be deleted.\n",
    "\n",
    "Finally, we sort the contents of the entire dataframe using these three time variables and rearrange the columns thus that these time variables are the first three of the set.\n"
   ]
  },
  {
   "cell_type": "code",
   "execution_count": 5,
   "metadata": {
    "collapsed": true
   },
   "outputs": [],
   "source": [
    "def weathercsvIntoTidyDataFrame(filename):\n",
    "    \"\"\"\n",
    "    Converts an weather csv file into a tidy dataframe\n",
    "    Parameters: csv file\n",
    "    Returns: dataframe\n",
    "    \"\"\"\n",
    "    \n",
    "    #Read a weather csv file in, convert to a dataframe, and drop NaN values\n",
    "    weather = pd.read_csv(filename)\n",
    "    weatherDF = pd.DataFrame(weather)\n",
    "    weatherDF = weatherDF.dropna(axis=1, how='all')\n",
    "    \n",
    "    #Delete the X column, which is extraneous\n",
    "    del weatherDF['X']\n",
    "\n",
    "    #Convert the year and month columns into strings so they can be merged into one column\n",
    "    weatherDF['year'] = weatherDF['year'].apply(str)\n",
    "    weatherDF['month'] = weatherDF['month'].apply(str)\n",
    "\n",
    "    #Create a column containing a concat of the year and month columns, seperated by a hyphen\n",
    "    weatherDF['year-month'] = weatherDF['year'] + '-' + weatherDF['month']\n",
    "\n",
    "    #Delete the year and month columns\n",
    "    weatherDF = weatherDF.drop(['year', 'month'], axis=1)\n",
    "    \n",
    "    #Melt the dataset, preserving the year-month and measure columns\n",
    "    weatherDF = weatherDF.melt(id_vars = ['year-month', 'measure'], var_name = 'day', value_name = 'Value')\n",
    "    \n",
    "    #update the year-month column to add the day column, saving the result to a new 'year-month-day' column\n",
    "    weatherDF['year-month-day'] = weatherDF['year-month'] + '-' + weatherDF['day']\n",
    "    \n",
    "    #delete the Xs (days) column and the year-month column \n",
    "    weatherDF = weatherDF.drop(['day', 'year-month'], axis=1)\n",
    "    \n",
    "    #Pivot the dataframe on the the 'measure' column, preserving the year-month column\n",
    "    weatherDF = weatherDF.pivot(index = 'year-month-day', columns = 'measure', values = 'Value')\n",
    "    \n",
    "    #Because the pivot function converts 'year-month-day' into the index, we need to reset the index so we can mutate the time column\n",
    "    weatherDF = weatherDF.reset_index()\n",
    "    \n",
    "    #Access the yearExtractor, monthExtractor, dayExtractor functions to seperate out the 'year-month-day' column into 3 seperate columns\n",
    "    weatherDF['year'] = weatherDF['year-month-day'].apply(yearExtractor)\n",
    "    weatherDF['month'] = weatherDF['year-month-day'].apply(monthExtractor)\n",
    "    weatherDF['day'] = weatherDF['year-month-day'].apply(dayExtractor)\n",
    "    \n",
    "    #Delete the 'year-month-day' column \n",
    "    del weatherDF['year-month-day']\n",
    "    \n",
    "    #Sort the dataframe by year, then month, then day to put into chronological order \n",
    "    weatherDF = weatherDF.sort_values(['year', 'month', 'day'])\n",
    "    \n",
    "    #Reset the index and delete the former, which is now out of order\n",
    "    weatherDF = weatherDF.reset_index()\n",
    "    del weatherDF['index']\n",
    "    \n",
    "    #Rearrange the columns so that the year, month, and day columns are the first 3 columns\n",
    "    weatherDF = rearrangeColumns(weatherDF, 3)\n",
    "    \n",
    "    return weatherDF\n",
    "    "
   ]
  },
  {
   "cell_type": "markdown",
   "metadata": {},
   "source": [
    "The flights data file contains several values of time, yet in varying formats. Many times are shown as \"1340\" where the first two digits are the hours and the last two digits are the minutes. Others are represented in military time and are expressed as \"XX:XX:XX\". It is thus a primary objective to convert all time columns into the preferred military time stamp format. Because some times we intend to convert are represented as integers and others as floats (1340.0, for example), we begin by converting time values into int values. This removes the decimial point from any points, ensuring all the time values we intend to convert to military time are either three or four digits.\n",
    "\n",
    "From that point conversion is as simple as parsing out the relevant information from the string and concating into a single string resembling a military time stamp."
   ]
  },
  {
   "cell_type": "code",
   "execution_count": 6,
   "metadata": {
    "collapsed": true
   },
   "outputs": [],
   "source": [
    "def convertTime(time):\n",
    "    \"\"\"\n",
    "    Takes time in int or float format, and converts to military time stamp\n",
    "    Parameters: int or float representing time expressed as \"xxxx.0\" or \"xxxx\"\n",
    "    Returns: string representing time expressed as \"xx:xx:xx\"\n",
    "    \"\"\"\n",
    "    \n",
    "    #convert to int, which removes the decimal on floats and standarizes all input to 4 or 3 digits\n",
    "    time = int(time)\n",
    "    #convert to string\n",
    "    time = str(time)\n",
    "    \n",
    "    #defines the time variables as token 0s in case incorrect data exist, preventing error from occuring at the return statement\n",
    "    hours = \"0\"\n",
    "    minutes = \"0\"\n",
    "    \n",
    "    #if statement to properly handle times of both 3 or 4 character length\n",
    "    if len(time) == 4:\n",
    "        hours = time[0:2]       #parse out hours from string\n",
    "        minutes = time[2:4]     #parse out minutes from string\n",
    "    if len(time) == 3:\n",
    "        hours = time[0]\n",
    "        minutes = time[1:3]\n",
    "    \n",
    "    \n",
    "    return hours + \":\" + minutes + \":00\" "
   ]
  },
  {
   "cell_type": "markdown",
   "metadata": {},
   "source": [
    "After reading and converting the flights file into a dataframe, munging into a tidy data format is accomplished by converting all time values into a military time stamp, utilizing the convertTime function. There are also several columns containing data found in other columns, so we delete those extraneous columns. Finally, we sort the dataframe by the year, month, and day columns such that it is in chronological order."
   ]
  },
  {
   "cell_type": "code",
   "execution_count": 7,
   "metadata": {
    "collapsed": true
   },
   "outputs": [],
   "source": [
    "import matplotlib.pyplot as plt\n",
    "import pandas as pd\n",
    "import seaborn as sns\n",
    "sns.set(style=\"whitegrid\", color_codes=True)\n",
    "%matplotlib inline\n",
    "import numpy as np"
   ]
  },
  {
   "cell_type": "markdown",
   "metadata": {},
   "source": [
    "Does the distance of a flight play a factor in the flight's potential arrival delay? Longer flights are potentially more difficult to accurately predict and will have more opportunities to encounter adverse weather condition, therefore it is likely larger delays in arrival time correlate with longer flight distances."
   ]
  },
  {
   "cell_type": "markdown",
   "metadata": {},
   "source": [
    "We hypothesized that the longer flight distance, the greater the arrival delay: a direct\n",
    "relationship. However, the data yeilds adverse results than our prediction. As the line of best\n",
    "fit demonstrates, the arrival delay actually decreases as the distance increases implying that\n",
    "there is an indirect relationship between Flight Distance and Arrival Delay.\n",
    "\n",
    "Is there a relationship between the time of the year and the average temperature in a day? "
   ]
  },
  {
   "cell_type": "code",
   "execution_count": 8,
   "metadata": {},
   "outputs": [
    {
     "ename": "NameError",
     "evalue": "name 'tidyWeather' is not defined",
     "output_type": "error",
     "traceback": [
      "\u001b[0;31m---------------------------------------------------------------------------\u001b[0m",
      "\u001b[0;31mNameError\u001b[0m                                 Traceback (most recent call last)",
      "\u001b[0;32m<ipython-input-8-bf42d2e89c73>\u001b[0m in \u001b[0;36m<module>\u001b[0;34m()\u001b[0m\n\u001b[0;32m----> 1\u001b[0;31m \u001b[0mplot\u001b[0m \u001b[0;34m=\u001b[0m \u001b[0mplt\u001b[0m\u001b[0;34m.\u001b[0m\u001b[0mscatter\u001b[0m\u001b[0;34m(\u001b[0m\u001b[0mtidyWeather\u001b[0m\u001b[0;34m[\u001b[0m\u001b[0;34m'month'\u001b[0m\u001b[0;34m]\u001b[0m\u001b[0;34m,\u001b[0m \u001b[0mtidyWeather\u001b[0m\u001b[0;34m[\u001b[0m\u001b[0;34m'Mean.TemperatureF'\u001b[0m\u001b[0;34m]\u001b[0m\u001b[0;34m)\u001b[0m\u001b[0;34m\u001b[0m\u001b[0m\n\u001b[0m\u001b[1;32m      2\u001b[0m \u001b[0mplt\u001b[0m\u001b[0;34m.\u001b[0m\u001b[0mxlabel\u001b[0m\u001b[0;34m(\u001b[0m\u001b[0;34m'Month'\u001b[0m\u001b[0;34m)\u001b[0m\u001b[0;34m\u001b[0m\u001b[0m\n\u001b[1;32m      3\u001b[0m \u001b[0mplt\u001b[0m\u001b[0;34m.\u001b[0m\u001b[0mylabel\u001b[0m\u001b[0;34m(\u001b[0m\u001b[0;34m'Mean Temperature (F)'\u001b[0m\u001b[0;34m)\u001b[0m\u001b[0;34m\u001b[0m\u001b[0m\n\u001b[1;32m      4\u001b[0m \u001b[0mplt\u001b[0m\u001b[0;34m.\u001b[0m\u001b[0mtitle\u001b[0m\u001b[0;34m(\u001b[0m\u001b[0;34m'Month vs Temperature'\u001b[0m\u001b[0;34m)\u001b[0m\u001b[0;34m\u001b[0m\u001b[0m\n\u001b[1;32m      5\u001b[0m \u001b[0mplt\u001b[0m\u001b[0;34m.\u001b[0m\u001b[0mshow\u001b[0m\u001b[0;34m(\u001b[0m\u001b[0;34m)\u001b[0m\u001b[0;34m\u001b[0m\u001b[0m\n",
      "\u001b[0;31mNameError\u001b[0m: name 'tidyWeather' is not defined"
     ]
    }
   ],
   "source": [
    "plot = plt.scatter(tidyWeather['month'], tidyWeather['Mean.TemperatureF'])\n",
    "plt.xlabel('Month')\n",
    "plt.ylabel('Mean Temperature (F)')\n",
    "plt.title('Month vs Temperature')\n",
    "plt.show()"
   ]
  },
  {
   "cell_type": "markdown",
   "metadata": {},
   "source": [
    "Here, we wanted to analyze how month affects Temperature. Knowing that months are correlated\n",
    "with specific seasons, we expected to see variation within temperature. The visual exhibits a sort\n",
    "of parabolic shape where the maximum temperature occurs within month 7 and where the lower extremes \n",
    "occur at months 1,2,10 and 12. This is expected where as we experience colder temperatures within the early\n",
    "and latter months and experience the greates temperatures within the middle of the year.\n",
    "\n",
    "Is there a correlation between wind speeds and delays in flight arrivals?  "
   ]
  },
  {
   "cell_type": "code",
   "execution_count": null,
   "metadata": {
    "collapsed": true
   },
   "outputs": [],
   "source": [
    "from IPython.display import Image\n",
    "import pandas as pd\n",
    "import numpy as np\n",
    "from IPython.core.display import Image"
   ]
  },
  {
   "cell_type": "code",
   "execution_count": null,
   "metadata": {},
   "outputs": [],
   "source": [
    "![alt text](Sheet1.jpg \"Image 1\")\n"
   ]
  },
  {
   "cell_type": "markdown",
   "metadata": {},
   "source": [
    "Is there a relationship between the time of the year and the average temperature in a day? \n"
   ]
  },
  {
   "cell_type": "markdown",
   "metadata": {},
   "source": [
    "![alt text](Sheet1.jpg \"Image 1\")"
   ]
  },
  {
   "cell_type": "markdown",
   "metadata": {
    "collapsed": true
   },
   "source": [
    "Here, we wanted to analyze how month affects Temperature. Knowing that months are correlated\n",
    "with specific seasons, we expected to see variation within temperature. The visual exhibits a sort\n",
    "of parabolic shape where the maximum temperature occurs within month 7 and where the lower extremes \n",
    "occur at months 1,2,10 and 12. This is expected where as we experience colder temperatures within the early\n",
    "and latter months and experience the greates temperatures within the middle of the year.\n",
    "\n",
    "Is there a correlation between the air carrier and the delay?"
   ]
  }
 ],
 "metadata": {
  "kernelspec": {
   "display_name": "Python 3",
   "language": "python",
   "name": "python3"
  },
  "language_info": {
   "codemirror_mode": {
    "name": "ipython",
    "version": 3
   },
   "file_extension": ".py",
   "mimetype": "text/x-python",
   "name": "python",
   "nbconvert_exporter": "python",
   "pygments_lexer": "ipython3",
   "version": "3.6.3"
  }
 },
 "nbformat": 4,
 "nbformat_minor": 2
}
